{
 "cells": [
  {
   "cell_type": "code",
   "execution_count": 1,
   "id": "d7f3a0f8",
   "metadata": {},
   "outputs": [],
   "source": [
    "import numpy as np\n",
    "import pandas as pd\n",
    "import os\n",
    "from tqdm.notebook import tqdm\n",
    "import talib"
   ]
  },
  {
   "cell_type": "code",
   "execution_count": 2,
   "id": "e688bb27",
   "metadata": {},
   "outputs": [],
   "source": [
    "data_dir = os.path.join('..', 'data',  'BTCUSDT', '1h')"
   ]
  },
  {
   "cell_type": "code",
   "execution_count": 3,
   "id": "066c1db4",
   "metadata": {},
   "outputs": [],
   "source": [
    "data_config = {\n",
    "  'data_dir': os.path.join('..', 'data',  'BTCUSDT'),\n",
    "  'names': [\"open time\", \"open\", \"high\", \"low\", \"close\", \"volume\",\n",
    "            \"close time\", \"quote asset volume\", \"number of trades\",\n",
    "            \"taker buy base asset volume\", \"taker buy quote asset volume\", \"date\"],\n",
    "  'columns': [\"open time\", \"open\", \"high\", \"low\", \"close\", \"volume\"], \n",
    "  'start_date': '2017-08', \n",
    "  'end_date': '2022-06', \n",
    "  'start_date_training': '2018-01-01',\n",
    "  'ticker': 'BTCUSDT',\n",
    "  'interval': '1h', \n",
    "}\n",
    "\n",
    "class DataLoader():\n",
    "    def __init__(self, config):\n",
    "        self.config = config\n",
    "        self.data = self.load_data()\n",
    "        \n",
    "    def load_data(self):\n",
    "        \"\"\"\n",
    "            Load data and return prepared data frame\n",
    "        \"\"\"\n",
    "        df = pd.DataFrame()\n",
    "        for d in tqdm(pd.date_range(self.config['start_date'], self.config['end_date'], freq='M')):\n",
    "            temp_dir = os.path.join(self.config['data_dir'], self.config['interval'],\n",
    "                                    '{}-{}-{}-{:02}.zip'.format(self.config['ticker'],\n",
    "                                                         self.config['interval'], \n",
    "                                                         d.year, \n",
    "                                                         d.month))\n",
    "            df = df.append(pd.read_csv(temp_dir, names=self.config['names']))\n",
    "        \n",
    "        df = df[self.config['columns']]\n",
    "        df['date'] = pd.to_datetime(df['open time'], unit='ms')\n",
    "        df = df.sort_values(by = 'date')\n",
    "        \n",
    "        d1 = df['date'].to_list()[0]\n",
    "        d2 = df['date'].to_list()[-1]\n",
    "        \n",
    "        df = df.set_index('date')\n",
    "        df = df.reindex(pd.date_range(d1, d2, freq='H')).fillna(method = 'ffill')\n",
    "        \n",
    "        #df[\"log_return\"] = np.log(df['close'] / df['close'].shift(1))\n",
    "        df[\"return\"] = df['close'].pct_change()\n",
    "        df = df.drop('open time', axis=1)\n",
    "        return df\n",
    "    \n",
    "    def generate_features(self):\n",
    "        \n",
    "        for i in [5, 10, 15, 20]:\n",
    "            self.data[f'MA_{i}'] = talib.MA(self.data['close'], timeperiod=i)\n",
    "            self.data[f'MA_{i}'] = self.data[f'MA_{i}']/self.data['close']\n",
    "        \n",
    "        for i in [7, 14, 21]:\n",
    "            self.data[f'RSI_{i}'] = talib.RSI(self.data['close'], timeperiod=i)\n",
    "            self.data[f'MFI_{i}'] = talib.MFI(self.data['high'],\n",
    "                                              self.data['low'],\n",
    "                                              self.data['close'],\n",
    "                                              self.data['volume'],\n",
    "                                              timeperiod=i)\n",
    "        \n",
    "        self.data['target_return'] = self.data['return'].shift(-1)\n",
    "        self.data['target'] = self.data['target_return'].apply(lambda x: 1 if x > 0 else 0)\n",
    "        self.data = self.data.dropna() \n",
    "        self.data = self.data[self.data.index >= pd.to_datetime(self.config['start_date_training'])]\n",
    "        \n",
    "        "
   ]
  },
  {
   "cell_type": "code",
   "execution_count": 4,
   "id": "84af5931",
   "metadata": {},
   "outputs": [
    {
     "data": {
      "application/vnd.jupyter.widget-view+json": {
       "model_id": "ddb53c84858b42fd8acaa3044b92dc58",
       "version_major": 2,
       "version_minor": 0
      },
      "text/plain": [
       "  0%|          | 0/58 [00:00<?, ?it/s]"
      ]
     },
     "metadata": {},
     "output_type": "display_data"
    },
    {
     "data": {
      "text/html": [
       "<div>\n",
       "<style scoped>\n",
       "    .dataframe tbody tr th:only-of-type {\n",
       "        vertical-align: middle;\n",
       "    }\n",
       "\n",
       "    .dataframe tbody tr th {\n",
       "        vertical-align: top;\n",
       "    }\n",
       "\n",
       "    .dataframe thead th {\n",
       "        text-align: right;\n",
       "    }\n",
       "</style>\n",
       "<table border=\"1\" class=\"dataframe\">\n",
       "  <thead>\n",
       "    <tr style=\"text-align: right;\">\n",
       "      <th></th>\n",
       "      <th>open</th>\n",
       "      <th>high</th>\n",
       "      <th>low</th>\n",
       "      <th>close</th>\n",
       "      <th>volume</th>\n",
       "      <th>return</th>\n",
       "      <th>MA_5</th>\n",
       "      <th>MA_10</th>\n",
       "      <th>MA_15</th>\n",
       "      <th>MA_20</th>\n",
       "      <th>RSI_7</th>\n",
       "      <th>MFI_7</th>\n",
       "      <th>RSI_14</th>\n",
       "      <th>MFI_14</th>\n",
       "      <th>RSI_21</th>\n",
       "      <th>MFI_21</th>\n",
       "      <th>target_return</th>\n",
       "      <th>target</th>\n",
       "    </tr>\n",
       "  </thead>\n",
       "  <tbody>\n",
       "    <tr>\n",
       "      <th>2018-01-01 00:00:00</th>\n",
       "      <td>13715.65</td>\n",
       "      <td>13715.65</td>\n",
       "      <td>13400.01</td>\n",
       "      <td>13529.01</td>\n",
       "      <td>443.356199</td>\n",
       "      <td>-0.013659</td>\n",
       "      <td>1.019717</td>\n",
       "      <td>1.014913</td>\n",
       "      <td>0.999011</td>\n",
       "      <td>0.982319</td>\n",
       "      <td>47.730214</td>\n",
       "      <td>42.968171</td>\n",
       "      <td>53.515629</td>\n",
       "      <td>73.661739</td>\n",
       "      <td>52.353109</td>\n",
       "      <td>59.644207</td>\n",
       "      <td>-0.024093</td>\n",
       "      <td>0</td>\n",
       "    </tr>\n",
       "    <tr>\n",
       "      <th>2018-01-01 01:00:00</th>\n",
       "      <td>13528.99</td>\n",
       "      <td>13595.89</td>\n",
       "      <td>13155.38</td>\n",
       "      <td>13203.06</td>\n",
       "      <td>383.697006</td>\n",
       "      <td>-0.024093</td>\n",
       "      <td>1.033244</td>\n",
       "      <td>1.039896</td>\n",
       "      <td>1.025260</td>\n",
       "      <td>1.008664</td>\n",
       "      <td>34.785584</td>\n",
       "      <td>26.862775</td>\n",
       "      <td>46.723138</td>\n",
       "      <td>67.514217</td>\n",
       "      <td>48.172120</td>\n",
       "      <td>60.358923</td>\n",
       "      <td>0.009628</td>\n",
       "      <td>1</td>\n",
       "    </tr>\n",
       "    <tr>\n",
       "      <th>2018-01-01 02:00:00</th>\n",
       "      <td>13203.00</td>\n",
       "      <td>13418.43</td>\n",
       "      <td>13200.00</td>\n",
       "      <td>13330.18</td>\n",
       "      <td>429.064572</td>\n",
       "      <td>0.009628</td>\n",
       "      <td>1.014227</td>\n",
       "      <td>1.026185</td>\n",
       "      <td>1.017185</td>\n",
       "      <td>1.002000</td>\n",
       "      <td>41.948934</td>\n",
       "      <td>25.302426</td>\n",
       "      <td>49.419505</td>\n",
       "      <td>60.196452</td>\n",
       "      <td>49.813377</td>\n",
       "      <td>60.458456</td>\n",
       "      <td>0.005990</td>\n",
       "      <td>1</td>\n",
       "    </tr>\n",
       "    <tr>\n",
       "      <th>2018-01-01 03:00:00</th>\n",
       "      <td>13330.26</td>\n",
       "      <td>13611.27</td>\n",
       "      <td>13290.00</td>\n",
       "      <td>13410.03</td>\n",
       "      <td>420.087030</td>\n",
       "      <td>0.005990</td>\n",
       "      <td>1.002065</td>\n",
       "      <td>1.017442</td>\n",
       "      <td>1.012908</td>\n",
       "      <td>0.998318</td>\n",
       "      <td>46.273743</td>\n",
       "      <td>27.097108</td>\n",
       "      <td>51.093868</td>\n",
       "      <td>59.857941</td>\n",
       "      <td>50.840150</td>\n",
       "      <td>65.114369</td>\n",
       "      <td>0.014242</td>\n",
       "      <td>1</td>\n",
       "    </tr>\n",
       "    <tr>\n",
       "      <th>2018-01-01 04:00:00</th>\n",
       "      <td>13434.98</td>\n",
       "      <td>13623.29</td>\n",
       "      <td>13322.15</td>\n",
       "      <td>13601.01</td>\n",
       "      <td>340.807329</td>\n",
       "      <td>0.014242</td>\n",
       "      <td>0.986299</td>\n",
       "      <td>1.002155</td>\n",
       "      <td>1.000857</td>\n",
       "      <td>0.988156</td>\n",
       "      <td>55.520270</td>\n",
       "      <td>29.767750</td>\n",
       "      <td>54.936175</td>\n",
       "      <td>58.401578</td>\n",
       "      <td>53.242518</td>\n",
       "      <td>65.060205</td>\n",
       "      <td>-0.003089</td>\n",
       "      <td>0</td>\n",
       "    </tr>\n",
       "    <tr>\n",
       "      <th>2018-01-01 05:00:00</th>\n",
       "      <td>13615.20</td>\n",
       "      <td>13699.00</td>\n",
       "      <td>13526.50</td>\n",
       "      <td>13558.99</td>\n",
       "      <td>404.229046</td>\n",
       "      <td>-0.003089</td>\n",
       "      <td>0.989797</td>\n",
       "      <td>1.003630</td>\n",
       "      <td>1.005045</td>\n",
       "      <td>0.995051</td>\n",
       "      <td>53.171265</td>\n",
       "      <td>43.787808</td>\n",
       "      <td>53.932185</td>\n",
       "      <td>65.827881</td>\n",
       "      <td>52.648131</td>\n",
       "      <td>68.935435</td>\n",
       "      <td>0.016330</td>\n",
       "      <td>1</td>\n",
       "    </tr>\n",
       "    <tr>\n",
       "      <th>2018-01-01 06:00:00</th>\n",
       "      <td>13539.00</td>\n",
       "      <td>13800.00</td>\n",
       "      <td>13510.00</td>\n",
       "      <td>13780.41</td>\n",
       "      <td>264.989684</td>\n",
       "      <td>0.016330</td>\n",
       "      <td>0.982273</td>\n",
       "      <td>0.986114</td>\n",
       "      <td>0.991643</td>\n",
       "      <td>0.982297</td>\n",
       "      <td>62.837280</td>\n",
       "      <td>53.515346</td>\n",
       "      <td>58.260907</td>\n",
       "      <td>59.920493</td>\n",
       "      <td>55.402794</td>\n",
       "      <td>72.243245</td>\n",
       "      <td>-0.015243</td>\n",
       "      <td>0</td>\n",
       "    </tr>\n",
       "    <tr>\n",
       "      <th>2018-01-01 07:00:00</th>\n",
       "      <td>13780.00</td>\n",
       "      <td>13818.55</td>\n",
       "      <td>13555.02</td>\n",
       "      <td>13570.35</td>\n",
       "      <td>292.188777</td>\n",
       "      <td>-0.015243</td>\n",
       "      <td>1.001018</td>\n",
       "      <td>0.998647</td>\n",
       "      <td>1.005688</td>\n",
       "      <td>0.999641</td>\n",
       "      <td>51.151302</td>\n",
       "      <td>56.675655</td>\n",
       "      <td>53.157740</td>\n",
       "      <td>50.252093</td>\n",
       "      <td>52.368106</td>\n",
       "      <td>68.985939</td>\n",
       "      <td>-0.005185</td>\n",
       "      <td>0</td>\n",
       "    </tr>\n",
       "    <tr>\n",
       "      <th>2018-01-01 08:00:00</th>\n",
       "      <td>13569.98</td>\n",
       "      <td>13735.24</td>\n",
       "      <td>13400.00</td>\n",
       "      <td>13499.99</td>\n",
       "      <td>271.813553</td>\n",
       "      <td>-0.005185</td>\n",
       "      <td>1.007567</td>\n",
       "      <td>1.001478</td>\n",
       "      <td>1.009631</td>\n",
       "      <td>1.006511</td>\n",
       "      <td>47.685801</td>\n",
       "      <td>59.146879</td>\n",
       "      <td>51.529619</td>\n",
       "      <td>43.582006</td>\n",
       "      <td>51.378336</td>\n",
       "      <td>65.257535</td>\n",
       "      <td>0.008667</td>\n",
       "      <td>1</td>\n",
       "    </tr>\n",
       "    <tr>\n",
       "      <th>2018-01-01 09:00:00</th>\n",
       "      <td>13499.97</td>\n",
       "      <td>13670.00</td>\n",
       "      <td>13459.11</td>\n",
       "      <td>13616.99</td>\n",
       "      <td>213.095829</td>\n",
       "      <td>0.008667</td>\n",
       "      <td>0.999145</td>\n",
       "      <td>0.992143</td>\n",
       "      <td>1.000368</td>\n",
       "      <td>0.999548</td>\n",
       "      <td>53.763029</td>\n",
       "      <td>74.383409</td>\n",
       "      <td>54.049913</td>\n",
       "      <td>48.882785</td>\n",
       "      <td>52.931603</td>\n",
       "      <td>63.836444</td>\n",
       "      <td>-0.003450</td>\n",
       "      <td>0</td>\n",
       "    </tr>\n",
       "  </tbody>\n",
       "</table>\n",
       "</div>"
      ],
      "text/plain": [
       "                         open      high       low     close      volume  \\\n",
       "2018-01-01 00:00:00  13715.65  13715.65  13400.01  13529.01  443.356199   \n",
       "2018-01-01 01:00:00  13528.99  13595.89  13155.38  13203.06  383.697006   \n",
       "2018-01-01 02:00:00  13203.00  13418.43  13200.00  13330.18  429.064572   \n",
       "2018-01-01 03:00:00  13330.26  13611.27  13290.00  13410.03  420.087030   \n",
       "2018-01-01 04:00:00  13434.98  13623.29  13322.15  13601.01  340.807329   \n",
       "2018-01-01 05:00:00  13615.20  13699.00  13526.50  13558.99  404.229046   \n",
       "2018-01-01 06:00:00  13539.00  13800.00  13510.00  13780.41  264.989684   \n",
       "2018-01-01 07:00:00  13780.00  13818.55  13555.02  13570.35  292.188777   \n",
       "2018-01-01 08:00:00  13569.98  13735.24  13400.00  13499.99  271.813553   \n",
       "2018-01-01 09:00:00  13499.97  13670.00  13459.11  13616.99  213.095829   \n",
       "\n",
       "                       return      MA_5     MA_10     MA_15     MA_20  \\\n",
       "2018-01-01 00:00:00 -0.013659  1.019717  1.014913  0.999011  0.982319   \n",
       "2018-01-01 01:00:00 -0.024093  1.033244  1.039896  1.025260  1.008664   \n",
       "2018-01-01 02:00:00  0.009628  1.014227  1.026185  1.017185  1.002000   \n",
       "2018-01-01 03:00:00  0.005990  1.002065  1.017442  1.012908  0.998318   \n",
       "2018-01-01 04:00:00  0.014242  0.986299  1.002155  1.000857  0.988156   \n",
       "2018-01-01 05:00:00 -0.003089  0.989797  1.003630  1.005045  0.995051   \n",
       "2018-01-01 06:00:00  0.016330  0.982273  0.986114  0.991643  0.982297   \n",
       "2018-01-01 07:00:00 -0.015243  1.001018  0.998647  1.005688  0.999641   \n",
       "2018-01-01 08:00:00 -0.005185  1.007567  1.001478  1.009631  1.006511   \n",
       "2018-01-01 09:00:00  0.008667  0.999145  0.992143  1.000368  0.999548   \n",
       "\n",
       "                         RSI_7      MFI_7     RSI_14     MFI_14     RSI_21  \\\n",
       "2018-01-01 00:00:00  47.730214  42.968171  53.515629  73.661739  52.353109   \n",
       "2018-01-01 01:00:00  34.785584  26.862775  46.723138  67.514217  48.172120   \n",
       "2018-01-01 02:00:00  41.948934  25.302426  49.419505  60.196452  49.813377   \n",
       "2018-01-01 03:00:00  46.273743  27.097108  51.093868  59.857941  50.840150   \n",
       "2018-01-01 04:00:00  55.520270  29.767750  54.936175  58.401578  53.242518   \n",
       "2018-01-01 05:00:00  53.171265  43.787808  53.932185  65.827881  52.648131   \n",
       "2018-01-01 06:00:00  62.837280  53.515346  58.260907  59.920493  55.402794   \n",
       "2018-01-01 07:00:00  51.151302  56.675655  53.157740  50.252093  52.368106   \n",
       "2018-01-01 08:00:00  47.685801  59.146879  51.529619  43.582006  51.378336   \n",
       "2018-01-01 09:00:00  53.763029  74.383409  54.049913  48.882785  52.931603   \n",
       "\n",
       "                        MFI_21  target_return  target  \n",
       "2018-01-01 00:00:00  59.644207      -0.024093       0  \n",
       "2018-01-01 01:00:00  60.358923       0.009628       1  \n",
       "2018-01-01 02:00:00  60.458456       0.005990       1  \n",
       "2018-01-01 03:00:00  65.114369       0.014242       1  \n",
       "2018-01-01 04:00:00  65.060205      -0.003089       0  \n",
       "2018-01-01 05:00:00  68.935435       0.016330       1  \n",
       "2018-01-01 06:00:00  72.243245      -0.015243       0  \n",
       "2018-01-01 07:00:00  68.985939      -0.005185       0  \n",
       "2018-01-01 08:00:00  65.257535       0.008667       1  \n",
       "2018-01-01 09:00:00  63.836444      -0.003450       0  "
      ]
     },
     "execution_count": 4,
     "metadata": {},
     "output_type": "execute_result"
    }
   ],
   "source": [
    "dt = DataLoader(data_config)\n",
    "dt.generate_features()\n",
    "dt.data.head(10)"
   ]
  },
  {
   "cell_type": "code",
   "execution_count": 5,
   "id": "e354921c",
   "metadata": {},
   "outputs": [],
   "source": [
    "from xgboost import XGBClassifier\n",
    "\n",
    "trader_config = {\n",
    "    'features': ['MA_5', 'MA_10', 'MA_15', 'MA_20',\n",
    "                 'RSI_7', 'MFI_7', 'RSI_14', 'MFI_14',\n",
    "                 'RSI_21', 'MFI_21'],\n",
    "    # out of sample start date\n",
    "    'oos_start_date': '2022-01-01', \n",
    "    # look back (training size) in days\n",
    "    'look_back': 90,\n",
    "    # training size\n",
    "    'step': 30,\n",
    "}\n",
    "\n",
    "class HourlyBacktester():\n",
    "    def __init__(self, data, config):\n",
    "        self.config = config\n",
    "        self.full_data = data\n",
    "        self.df_res = None\n",
    "        \n",
    "    def get_oos_data(self):\n",
    "        \"\"\"\n",
    "            Returns out-of-sample data\n",
    "        \"\"\"\n",
    "        return self.full_data[self.full_data.index >= pd.to_datetime(self.config['oos_start_date'])]\n",
    "    \n",
    "    def get_is_data(self):\n",
    "        \"\"\"\n",
    "            Returns in-sample data\n",
    "        \"\"\"\n",
    "        return self.full_data[self.full_data.index < pd.to_datetime(self.config['oos_start_date'])]\n",
    "    \n",
    "    @staticmethod\n",
    "    def get_model(xgb_param):\n",
    "        \"\"\"\n",
    "            Returns model\n",
    "        \"\"\"\n",
    "        return XGBClassifier(**xgb_param,  objective = 'binary:logistic')\n",
    "    \n",
    "    def apply_strategy(self, params, look_back, oos=False):\n",
    "        \"\"\"\n",
    "            The main logic of the strategy\n",
    "        \"\"\"\n",
    "        \n",
    "        self.config['look_back'] = look_back\n",
    "        \n",
    "        if oos:\n",
    "            df = self.get_oos_data()\n",
    "            dft = self.get_is_data()\n",
    "            df = dft[-self.config['look_back']:].append(df)\n",
    "        else:\n",
    "            df = self.get_is_data()\n",
    "            \n",
    "        self.df_res = pd.DataFrame()\n",
    "        i = 0\n",
    "        with tqdm(total = len(df)) as pbar:\n",
    "            pbar.update(self.config['look_back']*24)\n",
    "            while True:\n",
    "\n",
    "                train_start = i*self.config['step']*24\n",
    "                train_end = train_start + self.config['look_back']*24\n",
    "                test_end = train_end + self.config['step']*24\n",
    "                if train_end >= len(df):\n",
    "                    break\n",
    "\n",
    "                df_train = df[train_start:train_end]\n",
    "                df_test = df[train_end:test_end]\n",
    "\n",
    "                x_tr = df_train[self.config['features']]\n",
    "                x_test = df_test[self.config['features']]\n",
    "                y_tr = df_train['target']\n",
    "\n",
    "                clf = self.get_model(params)\n",
    "                clf.fit(x_tr, y_tr, eval_metric = 'logloss')\n",
    "\n",
    "                pred = clf.predict(x_test)\n",
    "                df_pred = pd.DataFrame({\n",
    "                    'date': df_test.index,\n",
    "                    'target_return': df_test['target_return'],\n",
    "                    'target': df_test['target'],\n",
    "                    'prediction': pred\n",
    "                })\n",
    "                if len(self.df_res):\n",
    "                    self.df_res = self.df_res.append(df_pred)\n",
    "                else:\n",
    "                    self.df_res = df_pred\n",
    "                pbar.update(self.config['step']*24)\n",
    "                i+=1\n",
    "                \n",
    "    def get_score(self):\n",
    "        \n",
    "        self.df_res['hourly_return'] = self.df_res[['target_return', 'target', 'prediction']].apply(\n",
    "           lambda row: np.abs(row[0]) if row[1] == row[2] else -np.abs(row[0]) , axis=1\n",
    "        )\n",
    "        \n",
    "        self.df_res['cum_ret'] = self.df_res['hourly_return'].cumsum()\n",
    "        \n",
    "        return self.df_res['cum_ret'].to_list()[-1]\n",
    "\n",
    "    def objective(self, trial):\n",
    "        \n",
    "        params = {\n",
    "            'n_estimators': trial.suggest_int('n_estimators', 350, 1000),\n",
    "            'max_depth': trial.suggest_int('max_depth', 3, 10),\n",
    "            'learning_rate': trial.suggest_uniform('learning_rate', 0.01, 0.10),\n",
    "            'subsample': trial.suggest_uniform('subsample', 0.50, 0.90),\n",
    "            'colsample_bytree': trial.suggest_uniform('colsample_bytree', 0.50, 0.90),\n",
    "            'gamma': trial.suggest_int('gamma', 0, 20), \n",
    "        }\n",
    "        \n",
    "        look_back = trial.suggest_int('look_back', 30, 180)\n",
    "        \n",
    "        self.apply_strategy(params, look_back)\n",
    "        \n",
    "        return self.get_score()"
   ]
  },
  {
   "cell_type": "code",
   "execution_count": 6,
   "id": "bbcd48db",
   "metadata": {
    "scrolled": true
   },
   "outputs": [
    {
     "name": "stdout",
     "output_type": "stream",
     "text": [
      "https://app.neptune.ai/enes.zvornicanin/optuna-test/e/OP-5\n",
      "Remember to stop your run once you’ve finished logging your metadata (https://docs.neptune.ai/api-reference/run#.stop). It will be stopped automatically only when the notebook kernel/interactive console is terminated.\n"
     ]
    },
    {
     "name": "stderr",
     "output_type": "stream",
     "text": [
      "\u001b[32m[I 2022-06-20 17:06:25,157]\u001b[0m A new study created in memory with name: no-name-11b95419-ddf1-4a06-b14a-3b8cdcda1c86\u001b[0m\n"
     ]
    },
    {
     "data": {
      "application/vnd.jupyter.widget-view+json": {
       "model_id": "7697edc99a2247d49ff6b63e75da8e12",
       "version_major": 2,
       "version_minor": 0
      },
      "text/plain": [
       "  0%|          | 0/35064 [00:00<?, ?it/s]"
      ]
     },
     "metadata": {},
     "output_type": "display_data"
    },
    {
     "name": "stderr",
     "output_type": "stream",
     "text": [
      "\u001b[32m[I 2022-06-20 17:07:41,041]\u001b[0m Trial 0 finished with value: 2.6365490876668782 and parameters: {'n_estimators': 567, 'max_depth': 7, 'learning_rate': 0.01138743644743088, 'subsample': 0.5910529620609777, 'colsample_bytree': 0.7448515469428725, 'gamma': 6, 'look_back': 89}. Best is trial 0 with value: 2.6365490876668782.\u001b[0m\n",
      "\u001b[33m[W 2022-06-20 17:07:41,878]\u001b[0m Param colsample_bytree unique value length is less than 2.\u001b[0m\n",
      "\u001b[33m[W 2022-06-20 17:07:41,892]\u001b[0m Param colsample_bytree unique value length is less than 2.\u001b[0m\n",
      "\u001b[33m[W 2022-06-20 17:07:41,900]\u001b[0m Param colsample_bytree unique value length is less than 2.\u001b[0m\n",
      "\u001b[33m[W 2022-06-20 17:07:41,910]\u001b[0m Param colsample_bytree unique value length is less than 2.\u001b[0m\n",
      "\u001b[33m[W 2022-06-20 17:07:41,920]\u001b[0m Param colsample_bytree unique value length is less than 2.\u001b[0m\n",
      "\u001b[33m[W 2022-06-20 17:07:41,929]\u001b[0m Param colsample_bytree unique value length is less than 2.\u001b[0m\n",
      "\u001b[33m[W 2022-06-20 17:07:41,947]\u001b[0m Param gamma unique value length is less than 2.\u001b[0m\n",
      "\u001b[33m[W 2022-06-20 17:07:41,964]\u001b[0m Param gamma unique value length is less than 2.\u001b[0m\n",
      "\u001b[33m[W 2022-06-20 17:07:41,974]\u001b[0m Param gamma unique value length is less than 2.\u001b[0m\n",
      "\u001b[33m[W 2022-06-20 17:07:41,981]\u001b[0m Param gamma unique value length is less than 2.\u001b[0m\n",
      "\u001b[33m[W 2022-06-20 17:07:41,987]\u001b[0m Param gamma unique value length is less than 2.\u001b[0m\n",
      "\u001b[33m[W 2022-06-20 17:07:41,994]\u001b[0m Param gamma unique value length is less than 2.\u001b[0m\n",
      "\u001b[33m[W 2022-06-20 17:07:42,006]\u001b[0m Param learning_rate unique value length is less than 2.\u001b[0m\n",
      "\u001b[33m[W 2022-06-20 17:07:42,014]\u001b[0m Param learning_rate unique value length is less than 2.\u001b[0m\n",
      "\u001b[33m[W 2022-06-20 17:07:42,026]\u001b[0m Param learning_rate unique value length is less than 2.\u001b[0m\n",
      "\u001b[33m[W 2022-06-20 17:07:42,036]\u001b[0m Param learning_rate unique value length is less than 2.\u001b[0m\n",
      "\u001b[33m[W 2022-06-20 17:07:42,049]\u001b[0m Param learning_rate unique value length is less than 2.\u001b[0m\n",
      "\u001b[33m[W 2022-06-20 17:07:42,061]\u001b[0m Param learning_rate unique value length is less than 2.\u001b[0m\n",
      "\u001b[33m[W 2022-06-20 17:07:42,076]\u001b[0m Param look_back unique value length is less than 2.\u001b[0m\n",
      "\u001b[33m[W 2022-06-20 17:07:42,084]\u001b[0m Param look_back unique value length is less than 2.\u001b[0m\n",
      "\u001b[33m[W 2022-06-20 17:07:42,094]\u001b[0m Param look_back unique value length is less than 2.\u001b[0m\n",
      "\u001b[33m[W 2022-06-20 17:07:42,111]\u001b[0m Param look_back unique value length is less than 2.\u001b[0m\n",
      "\u001b[33m[W 2022-06-20 17:07:42,118]\u001b[0m Param look_back unique value length is less than 2.\u001b[0m\n",
      "\u001b[33m[W 2022-06-20 17:07:42,125]\u001b[0m Param look_back unique value length is less than 2.\u001b[0m\n",
      "\u001b[33m[W 2022-06-20 17:07:42,134]\u001b[0m Param max_depth unique value length is less than 2.\u001b[0m\n",
      "\u001b[33m[W 2022-06-20 17:07:42,140]\u001b[0m Param max_depth unique value length is less than 2.\u001b[0m\n",
      "\u001b[33m[W 2022-06-20 17:07:42,150]\u001b[0m Param max_depth unique value length is less than 2.\u001b[0m\n",
      "\u001b[33m[W 2022-06-20 17:07:42,156]\u001b[0m Param max_depth unique value length is less than 2.\u001b[0m\n",
      "\u001b[33m[W 2022-06-20 17:07:42,167]\u001b[0m Param max_depth unique value length is less than 2.\u001b[0m\n",
      "\u001b[33m[W 2022-06-20 17:07:42,173]\u001b[0m Param max_depth unique value length is less than 2.\u001b[0m\n",
      "\u001b[33m[W 2022-06-20 17:07:42,183]\u001b[0m Param n_estimators unique value length is less than 2.\u001b[0m\n",
      "\u001b[33m[W 2022-06-20 17:07:42,188]\u001b[0m Param n_estimators unique value length is less than 2.\u001b[0m\n",
      "\u001b[33m[W 2022-06-20 17:07:42,197]\u001b[0m Param n_estimators unique value length is less than 2.\u001b[0m\n",
      "\u001b[33m[W 2022-06-20 17:07:42,202]\u001b[0m Param n_estimators unique value length is less than 2.\u001b[0m\n",
      "\u001b[33m[W 2022-06-20 17:07:42,209]\u001b[0m Param n_estimators unique value length is less than 2.\u001b[0m\n",
      "\u001b[33m[W 2022-06-20 17:07:42,221]\u001b[0m Param n_estimators unique value length is less than 2.\u001b[0m\n",
      "\u001b[33m[W 2022-06-20 17:07:42,230]\u001b[0m Param subsample unique value length is less than 2.\u001b[0m\n",
      "\u001b[33m[W 2022-06-20 17:07:42,237]\u001b[0m Param subsample unique value length is less than 2.\u001b[0m\n",
      "\u001b[33m[W 2022-06-20 17:07:42,243]\u001b[0m Param subsample unique value length is less than 2.\u001b[0m\n",
      "\u001b[33m[W 2022-06-20 17:07:42,250]\u001b[0m Param subsample unique value length is less than 2.\u001b[0m\n",
      "\u001b[33m[W 2022-06-20 17:07:42,255]\u001b[0m Param subsample unique value length is less than 2.\u001b[0m\n",
      "\u001b[33m[W 2022-06-20 17:07:42,261]\u001b[0m Param subsample unique value length is less than 2.\u001b[0m\n"
     ]
    },
    {
     "data": {
      "application/vnd.jupyter.widget-view+json": {
       "model_id": "46506932fb5749af8f1154bb4fd37476",
       "version_major": 2,
       "version_minor": 0
      },
      "text/plain": [
       "  0%|          | 0/35064 [00:00<?, ?it/s]"
      ]
     },
     "metadata": {},
     "output_type": "display_data"
    },
    {
     "name": "stderr",
     "output_type": "stream",
     "text": [
      "\u001b[32m[I 2022-06-20 17:08:33,256]\u001b[0m Trial 1 finished with value: 0.35813435035362184 and parameters: {'n_estimators': 607, 'max_depth': 9, 'learning_rate': 0.06237880682856147, 'subsample': 0.5343209978550263, 'colsample_bytree': 0.5614263804274081, 'gamma': 2, 'look_back': 32}. Best is trial 0 with value: 2.6365490876668782.\u001b[0m\n"
     ]
    },
    {
     "data": {
      "application/vnd.jupyter.widget-view+json": {
       "model_id": "167ea178526348d6b4bbfdb1ba0c5f7a",
       "version_major": 2,
       "version_minor": 0
      },
      "text/plain": [
       "  0%|          | 0/35064 [00:00<?, ?it/s]"
      ]
     },
     "metadata": {},
     "output_type": "display_data"
    },
    {
     "name": "stderr",
     "output_type": "stream",
     "text": [
      "\u001b[32m[I 2022-06-20 17:09:11,159]\u001b[0m Trial 2 finished with value: 4.821988313189655 and parameters: {'n_estimators': 434, 'max_depth': 4, 'learning_rate': 0.04010298642816986, 'subsample': 0.8381669456266398, 'colsample_bytree': 0.7620025386515892, 'gamma': 12, 'look_back': 51}. Best is trial 2 with value: 4.821988313189655.\u001b[0m\n"
     ]
    },
    {
     "data": {
      "application/vnd.jupyter.widget-view+json": {
       "model_id": "4fd5ce6c663f47719aa0fb8ce3aca2fa",
       "version_major": 2,
       "version_minor": 0
      },
      "text/plain": [
       "  0%|          | 0/35064 [00:00<?, ?it/s]"
      ]
     },
     "metadata": {},
     "output_type": "display_data"
    },
    {
     "name": "stderr",
     "output_type": "stream",
     "text": [
      "\u001b[32m[I 2022-06-20 17:09:57,517]\u001b[0m Trial 3 finished with value: 3.710723094796419 and parameters: {'n_estimators': 500, 'max_depth': 3, 'learning_rate': 0.04975497382022411, 'subsample': 0.5580244739234987, 'colsample_bytree': 0.8436880420421129, 'gamma': 11, 'look_back': 105}. Best is trial 2 with value: 4.821988313189655.\u001b[0m\n"
     ]
    },
    {
     "data": {
      "application/vnd.jupyter.widget-view+json": {
       "model_id": "fe0a3789e0c746db8b605a170aa03be2",
       "version_major": 2,
       "version_minor": 0
      },
      "text/plain": [
       "  0%|          | 0/35064 [00:00<?, ?it/s]"
      ]
     },
     "metadata": {},
     "output_type": "display_data"
    },
    {
     "name": "stderr",
     "output_type": "stream",
     "text": [
      "\u001b[32m[I 2022-06-20 17:12:43,885]\u001b[0m Trial 4 finished with value: 1.4311612560849105 and parameters: {'n_estimators': 927, 'max_depth': 7, 'learning_rate': 0.0652522653259008, 'subsample': 0.7793318912153029, 'colsample_bytree': 0.5126976288634035, 'gamma': 9, 'look_back': 128}. Best is trial 2 with value: 4.821988313189655.\u001b[0m\n"
     ]
    },
    {
     "data": {
      "application/vnd.jupyter.widget-view+json": {
       "model_id": "18677a5c131549ad9cfa2aa3bf0ee07c",
       "version_major": 2,
       "version_minor": 0
      },
      "text/plain": [
       "  0%|          | 0/35064 [00:00<?, ?it/s]"
      ]
     },
     "metadata": {},
     "output_type": "display_data"
    },
    {
     "name": "stderr",
     "output_type": "stream",
     "text": [
      "\u001b[32m[I 2022-06-20 17:13:19,568]\u001b[0m Trial 5 finished with value: 3.664613065853334 and parameters: {'n_estimators': 711, 'max_depth': 3, 'learning_rate': 0.014200321506155836, 'subsample': 0.6006506987479212, 'colsample_bytree': 0.5143217917534874, 'gamma': 1, 'look_back': 37}. Best is trial 2 with value: 4.821988313189655.\u001b[0m\n"
     ]
    },
    {
     "data": {
      "application/vnd.jupyter.widget-view+json": {
       "model_id": "f66cf5eaeedc43dfa09d5cab2d4c9198",
       "version_major": 2,
       "version_minor": 0
      },
      "text/plain": [
       "  0%|          | 0/35064 [00:00<?, ?it/s]"
      ]
     },
     "metadata": {},
     "output_type": "display_data"
    },
    {
     "name": "stderr",
     "output_type": "stream",
     "text": [
      "\u001b[32m[I 2022-06-20 17:16:03,192]\u001b[0m Trial 6 finished with value: 1.9795767437138831 and parameters: {'n_estimators': 755, 'max_depth': 9, 'learning_rate': 0.02210500595007934, 'subsample': 0.6944109934609835, 'colsample_bytree': 0.5273672868796756, 'gamma': 9, 'look_back': 124}. Best is trial 2 with value: 4.821988313189655.\u001b[0m\n"
     ]
    },
    {
     "data": {
      "application/vnd.jupyter.widget-view+json": {
       "model_id": "609ef82e98f94950a5c82301395c2387",
       "version_major": 2,
       "version_minor": 0
      },
      "text/plain": [
       "  0%|          | 0/35064 [00:00<?, ?it/s]"
      ]
     },
     "metadata": {},
     "output_type": "display_data"
    },
    {
     "name": "stderr",
     "output_type": "stream",
     "text": [
      "\u001b[32m[I 2022-06-20 17:17:50,793]\u001b[0m Trial 7 finished with value: 1.522764996711678 and parameters: {'n_estimators': 538, 'max_depth': 8, 'learning_rate': 0.06396223303946745, 'subsample': 0.7359632501130976, 'colsample_bytree': 0.6496338414601176, 'gamma': 6, 'look_back': 122}. Best is trial 2 with value: 4.821988313189655.\u001b[0m\n"
     ]
    },
    {
     "data": {
      "application/vnd.jupyter.widget-view+json": {
       "model_id": "26429c325455437aaa7329fd82636cb6",
       "version_major": 2,
       "version_minor": 0
      },
      "text/plain": [
       "  0%|          | 0/35064 [00:00<?, ?it/s]"
      ]
     },
     "metadata": {},
     "output_type": "display_data"
    },
    {
     "name": "stderr",
     "output_type": "stream",
     "text": [
      "\u001b[32m[I 2022-06-20 17:20:04,236]\u001b[0m Trial 8 finished with value: 1.6621338549250169 and parameters: {'n_estimators': 785, 'max_depth': 7, 'learning_rate': 0.08244293798319904, 'subsample': 0.8426365685779631, 'colsample_bytree': 0.6918544393867455, 'gamma': 7, 'look_back': 122}. Best is trial 2 with value: 4.821988313189655.\u001b[0m\n"
     ]
    },
    {
     "data": {
      "application/vnd.jupyter.widget-view+json": {
       "model_id": "cc3ddf93155b4af3850c8315b8bfa1d8",
       "version_major": 2,
       "version_minor": 0
      },
      "text/plain": [
       "  0%|          | 0/35064 [00:00<?, ?it/s]"
      ]
     },
     "metadata": {},
     "output_type": "display_data"
    },
    {
     "name": "stderr",
     "output_type": "stream",
     "text": [
      "\u001b[32m[I 2022-06-20 17:21:39,973]\u001b[0m Trial 9 finished with value: 2.817966257664858 and parameters: {'n_estimators': 980, 'max_depth': 10, 'learning_rate': 0.08398434810756214, 'subsample': 0.6257976551480288, 'colsample_bytree': 0.818063325161848, 'gamma': 0, 'look_back': 55}. Best is trial 2 with value: 4.821988313189655.\u001b[0m\n"
     ]
    },
    {
     "data": {
      "application/vnd.jupyter.widget-view+json": {
       "model_id": "d879f7d3471c4b22a39481941d553b4f",
       "version_major": 2,
       "version_minor": 0
      },
      "text/plain": [
       "  0%|          | 0/35064 [00:00<?, ?it/s]"
      ]
     },
     "metadata": {},
     "output_type": "display_data"
    },
    {
     "name": "stderr",
     "output_type": "stream",
     "text": [
      "\u001b[32m[I 2022-06-20 17:22:54,624]\u001b[0m Trial 10 finished with value: 1.6549798243003688 and parameters: {'n_estimators': 387, 'max_depth': 5, 'learning_rate': 0.03548657475452863, 'subsample': 0.8996351943337283, 'colsample_bytree': 0.7529571384634041, 'gamma': 17, 'look_back': 178}. Best is trial 2 with value: 4.821988313189655.\u001b[0m\n"
     ]
    },
    {
     "data": {
      "application/vnd.jupyter.widget-view+json": {
       "model_id": "01a7c63cfe554b0da3e13ab6d4009119",
       "version_major": 2,
       "version_minor": 0
      },
      "text/plain": [
       "  0%|          | 0/35064 [00:00<?, ?it/s]"
      ]
     },
     "metadata": {},
     "output_type": "display_data"
    },
    {
     "name": "stderr",
     "output_type": "stream",
     "text": [
      "\u001b[32m[I 2022-06-20 17:23:27,086]\u001b[0m Trial 11 finished with value: 4.286120299493142 and parameters: {'n_estimators': 406, 'max_depth': 3, 'learning_rate': 0.043586694509552985, 'subsample': 0.6857523279301607, 'colsample_bytree': 0.8918623178044063, 'gamma': 14, 'look_back': 80}. Best is trial 2 with value: 4.821988313189655.\u001b[0m\n"
     ]
    },
    {
     "data": {
      "application/vnd.jupyter.widget-view+json": {
       "model_id": "90794756233440c9808c71b6903de760",
       "version_major": 2,
       "version_minor": 0
      },
      "text/plain": [
       "  0%|          | 0/35064 [00:00<?, ?it/s]"
      ]
     },
     "metadata": {},
     "output_type": "display_data"
    },
    {
     "name": "stderr",
     "output_type": "stream",
     "text": [
      "\u001b[32m[I 2022-06-20 17:24:09,003]\u001b[0m Trial 12 finished with value: 4.629947189149345 and parameters: {'n_estimators': 360, 'max_depth': 5, 'learning_rate': 0.042158359100504056, 'subsample': 0.6779518227580598, 'colsample_bytree': 0.8983632094834084, 'gamma': 15, 'look_back': 72}. Best is trial 2 with value: 4.821988313189655.\u001b[0m\n"
     ]
    },
    {
     "data": {
      "application/vnd.jupyter.widget-view+json": {
       "model_id": "b84854a6959a46d1a152794dc44fc384",
       "version_major": 2,
       "version_minor": 0
      },
      "text/plain": [
       "  0%|          | 0/35064 [00:00<?, ?it/s]"
      ]
     },
     "metadata": {},
     "output_type": "display_data"
    },
    {
     "name": "stderr",
     "output_type": "stream",
     "text": [
      "\u001b[32m[I 2022-06-20 17:24:47,385]\u001b[0m Trial 13 finished with value: 5.210315443125857 and parameters: {'n_estimators': 355, 'max_depth': 5, 'learning_rate': 0.0317123218374243, 'subsample': 0.786879421330084, 'colsample_bytree': 0.886074463728819, 'gamma': 20, 'look_back': 59}. Best is trial 13 with value: 5.210315443125857.\u001b[0m\n"
     ]
    },
    {
     "data": {
      "application/vnd.jupyter.widget-view+json": {
       "model_id": "aed018b5732a4b98a9a499c5c27d6a54",
       "version_major": 2,
       "version_minor": 0
      },
      "text/plain": [
       "  0%|          | 0/35064 [00:00<?, ?it/s]"
      ]
     },
     "metadata": {},
     "output_type": "display_data"
    },
    {
     "name": "stderr",
     "output_type": "stream",
     "text": [
      "\u001b[32m[I 2022-06-20 17:25:37,493]\u001b[0m Trial 14 finished with value: 4.384827222754918 and parameters: {'n_estimators': 462, 'max_depth': 5, 'learning_rate': 0.028691068895127403, 'subsample': 0.8037258416613392, 'colsample_bytree': 0.790966717970618, 'gamma': 19, 'look_back': 57}. Best is trial 13 with value: 5.210315443125857.\u001b[0m\n"
     ]
    },
    {
     "data": {
      "application/vnd.jupyter.widget-view+json": {
       "model_id": "50b8f95bc5ad456c84545871274b534f",
       "version_major": 2,
       "version_minor": 0
      },
      "text/plain": [
       "  0%|          | 0/35064 [00:00<?, ?it/s]"
      ]
     },
     "metadata": {},
     "output_type": "display_data"
    },
    {
     "name": "stderr",
     "output_type": "stream",
     "text": [
      "\u001b[32m[I 2022-06-20 17:26:30,064]\u001b[0m Trial 15 finished with value: 3.633977538053133 and parameters: {'n_estimators': 637, 'max_depth': 4, 'learning_rate': 0.02414850878343678, 'subsample': 0.8540452405027001, 'colsample_bytree': 0.6698892367417761, 'gamma': 20, 'look_back': 54}. Best is trial 13 with value: 5.210315443125857.\u001b[0m\n"
     ]
    },
    {
     "data": {
      "application/vnd.jupyter.widget-view+json": {
       "model_id": "d855e7854aa9406e97dc744745cb1657",
       "version_major": 2,
       "version_minor": 0
      },
      "text/plain": [
       "  0%|          | 0/35064 [00:00<?, ?it/s]"
      ]
     },
     "metadata": {},
     "output_type": "display_data"
    },
    {
     "name": "stderr",
     "output_type": "stream",
     "text": [
      "\u001b[32m[I 2022-06-20 17:27:22,235]\u001b[0m Trial 16 finished with value: 3.783288091847585 and parameters: {'n_estimators': 351, 'max_depth': 6, 'learning_rate': 0.03465490975710614, 'subsample': 0.7551852317711564, 'colsample_bytree': 0.6023129836271461, 'gamma': 13, 'look_back': 97}. Best is trial 13 with value: 5.210315443125857.\u001b[0m\n"
     ]
    },
    {
     "data": {
      "application/vnd.jupyter.widget-view+json": {
       "model_id": "8f3ec982f9d74002bcf3d7bd368775b9",
       "version_major": 2,
       "version_minor": 0
      },
      "text/plain": [
       "  0%|          | 0/35064 [00:00<?, ?it/s]"
      ]
     },
     "metadata": {},
     "output_type": "display_data"
    },
    {
     "name": "stderr",
     "output_type": "stream",
     "text": [
      "\u001b[32m[I 2022-06-20 17:28:30,557]\u001b[0m Trial 17 finished with value: 1.2864036246032193 and parameters: {'n_estimators': 465, 'max_depth': 4, 'learning_rate': 0.09979112701397053, 'subsample': 0.823579011259816, 'colsample_bytree': 0.733666759764732, 'gamma': 17, 'look_back': 161}. Best is trial 13 with value: 5.210315443125857.\u001b[0m\n"
     ]
    },
    {
     "data": {
      "application/vnd.jupyter.widget-view+json": {
       "model_id": "9c4f28dd2b8442a68ab1ecf3ece61327",
       "version_major": 2,
       "version_minor": 0
      },
      "text/plain": [
       "  0%|          | 0/35064 [00:00<?, ?it/s]"
      ]
     },
     "metadata": {},
     "output_type": "display_data"
    },
    {
     "name": "stderr",
     "output_type": "stream",
     "text": [
      "\u001b[32m[I 2022-06-20 17:29:27,501]\u001b[0m Trial 18 finished with value: 5.029711072029103 and parameters: {'n_estimators': 444, 'max_depth': 6, 'learning_rate': 0.05395073296801107, 'subsample': 0.8754804974592673, 'colsample_bytree': 0.8524895396223497, 'gamma': 17, 'look_back': 66}. Best is trial 13 with value: 5.210315443125857.\u001b[0m\n"
     ]
    },
    {
     "data": {
      "application/vnd.jupyter.widget-view+json": {
       "model_id": "eee5993f539240a2a6ff33ffe30d1aa5",
       "version_major": 2,
       "version_minor": 0
      },
      "text/plain": [
       "  0%|          | 0/35064 [00:00<?, ?it/s]"
      ]
     },
     "metadata": {},
     "output_type": "display_data"
    },
    {
     "name": "stderr",
     "output_type": "stream",
     "text": [
      "\u001b[32m[I 2022-06-20 17:31:10,770]\u001b[0m Trial 19 finished with value: 4.373678616655161 and parameters: {'n_estimators': 832, 'max_depth': 6, 'learning_rate': 0.05645751761800897, 'subsample': 0.8949849334127633, 'colsample_bytree': 0.8418850562727114, 'gamma': 17, 'look_back': 70}. Best is trial 13 with value: 5.210315443125857.\u001b[0m\n"
     ]
    }
   ],
   "source": [
    "import optuna\n",
    "import warnings\n",
    "import neptune.new as neptune\n",
    "import neptune.new.integrations.optuna as optuna_utils\n",
    "\n",
    "warnings.filterwarnings(\"ignore\")\n",
    "\n",
    "run = neptune.init(\n",
    "    project=\"enes.zvornicanin/optuna-test\",\n",
    "    api_token=os.environ.get('OPTUNA-TEST-NEPTUNE-API'),\n",
    ") \n",
    "\n",
    "neptune_callback = optuna_utils.NeptuneCallback(run)\n",
    "\n",
    "hb = HourlyBacktester(dt.data, trader_config)\n",
    "n_trials = 20\n",
    "\n",
    "study = optuna.create_study(direction=\"maximize\")\n",
    "study.optimize(hb.objective, n_trials=n_trials, callbacks=[neptune_callback])\n",
    "\n",
    "\n"
   ]
  },
  {
   "cell_type": "code",
   "execution_count": 7,
   "id": "1c209417",
   "metadata": {},
   "outputs": [
    {
     "name": "stdout",
     "output_type": "stream",
     "text": [
      "Shutting down background jobs, please wait a moment...\n",
      "Done!\n",
      "Waiting for the remaining 1 operations to synchronize with Neptune. Do not kill this process.\n",
      "All 1 operations synced, thanks for waiting!\n",
      "Explore the metadata in the Neptune app:\n",
      "https://app.neptune.ai/enes.zvornicanin/optuna-test/e/OP-5\n"
     ]
    }
   ],
   "source": [
    "run.stop()"
   ]
  },
  {
   "cell_type": "code",
   "execution_count": 10,
   "id": "6dc7ce5c",
   "metadata": {},
   "outputs": [
    {
     "data": {
      "application/vnd.jupyter.widget-view+json": {
       "model_id": "74217c54df0746ff94946f7414b3a2d1",
       "version_major": 2,
       "version_minor": 0
      },
      "text/plain": [
       "  0%|          | 0/35064 [00:00<?, ?it/s]"
      ]
     },
     "metadata": {},
     "output_type": "display_data"
    },
    {
     "data": {
      "text/html": [
       "<div>\n",
       "<style scoped>\n",
       "    .dataframe tbody tr th:only-of-type {\n",
       "        vertical-align: middle;\n",
       "    }\n",
       "\n",
       "    .dataframe tbody tr th {\n",
       "        vertical-align: top;\n",
       "    }\n",
       "\n",
       "    .dataframe thead th {\n",
       "        text-align: right;\n",
       "    }\n",
       "</style>\n",
       "<table border=\"1\" class=\"dataframe\">\n",
       "  <thead>\n",
       "    <tr style=\"text-align: right;\">\n",
       "      <th></th>\n",
       "      <th>date</th>\n",
       "      <th>target_return</th>\n",
       "      <th>target</th>\n",
       "      <th>prediction</th>\n",
       "      <th>hourly_return</th>\n",
       "      <th>cum_ret</th>\n",
       "    </tr>\n",
       "  </thead>\n",
       "  <tbody>\n",
       "    <tr>\n",
       "      <th>2018-03-01 00:00:00</th>\n",
       "      <td>2018-03-01 00:00:00</td>\n",
       "      <td>0.000768</td>\n",
       "      <td>1</td>\n",
       "      <td>0</td>\n",
       "      <td>-0.000768</td>\n",
       "      <td>-0.000768</td>\n",
       "    </tr>\n",
       "    <tr>\n",
       "      <th>2018-03-01 01:00:00</th>\n",
       "      <td>2018-03-01 01:00:00</td>\n",
       "      <td>-0.008351</td>\n",
       "      <td>0</td>\n",
       "      <td>0</td>\n",
       "      <td>0.008351</td>\n",
       "      <td>0.007582</td>\n",
       "    </tr>\n",
       "    <tr>\n",
       "      <th>2018-03-01 02:00:00</th>\n",
       "      <td>2018-03-01 02:00:00</td>\n",
       "      <td>0.002423</td>\n",
       "      <td>1</td>\n",
       "      <td>0</td>\n",
       "      <td>-0.002423</td>\n",
       "      <td>0.005160</td>\n",
       "    </tr>\n",
       "    <tr>\n",
       "      <th>2018-03-01 03:00:00</th>\n",
       "      <td>2018-03-01 03:00:00</td>\n",
       "      <td>0.008179</td>\n",
       "      <td>1</td>\n",
       "      <td>0</td>\n",
       "      <td>-0.008179</td>\n",
       "      <td>-0.003019</td>\n",
       "    </tr>\n",
       "    <tr>\n",
       "      <th>2018-03-01 04:00:00</th>\n",
       "      <td>2018-03-01 04:00:00</td>\n",
       "      <td>-0.002659</td>\n",
       "      <td>0</td>\n",
       "      <td>0</td>\n",
       "      <td>0.002659</td>\n",
       "      <td>-0.000360</td>\n",
       "    </tr>\n",
       "  </tbody>\n",
       "</table>\n",
       "</div>"
      ],
      "text/plain": [
       "                                   date  target_return  target  prediction  \\\n",
       "2018-03-01 00:00:00 2018-03-01 00:00:00       0.000768       1           0   \n",
       "2018-03-01 01:00:00 2018-03-01 01:00:00      -0.008351       0           0   \n",
       "2018-03-01 02:00:00 2018-03-01 02:00:00       0.002423       1           0   \n",
       "2018-03-01 03:00:00 2018-03-01 03:00:00       0.008179       1           0   \n",
       "2018-03-01 04:00:00 2018-03-01 04:00:00      -0.002659       0           0   \n",
       "\n",
       "                     hourly_return   cum_ret  \n",
       "2018-03-01 00:00:00      -0.000768 -0.000768  \n",
       "2018-03-01 01:00:00       0.008351  0.007582  \n",
       "2018-03-01 02:00:00      -0.002423  0.005160  \n",
       "2018-03-01 03:00:00      -0.008179 -0.003019  \n",
       "2018-03-01 04:00:00       0.002659 -0.000360  "
      ]
     },
     "execution_count": 10,
     "metadata": {},
     "output_type": "execute_result"
    }
   ],
   "source": [
    "best_params = study.best_params\n",
    "look_back = best_params.pop('look_back')\n",
    "\n",
    "hb = HourlyBacktester(dt.data, trader_config)\n",
    "hb.apply_strategy( best_params, look_back)\n",
    "hb.get_score()\n",
    "\n",
    "hb.df_res.head()"
   ]
  },
  {
   "cell_type": "code",
   "execution_count": 18,
   "id": "3ac11523",
   "metadata": {},
   "outputs": [
    {
     "data": {
      "image/png": "[encoded data removed]",
      "text/plain": [
       "<Figure size 792x504 with 1 Axes>"
      ]
     },
     "metadata": {
      "needs_background": "light"
     },
     "output_type": "display_data"
    }
   ],
   "source": [
    "import matplotlib.pyplot as plt\n",
    "\n",
    "plt.rcParams[\"figure.figsize\"] = (11, 7)\n",
    "hb.df_res['buy_and_hold_ret'] = (hb.df_res['target_return'] + 1).cumprod() - 1\n",
    "hb.df_res[['cum_ret', 'buy_and_hold_ret']].plot()\n",
    "plt.legend(['Cumulative return XGB', 'Cumulative return buy and hold'])\n",
    "plt.grid()\n",
    "plt.ylabel('Cumulative return')\n",
    "plt.title('Cumulative return without transaction costs')\n",
    "plt.show()"
   ]
  },
  {
   "cell_type": "code",
   "execution_count": 19,
   "id": "80ad1fb3",
   "metadata": {},
   "outputs": [
    {
     "data": {
      "application/vnd.jupyter.widget-view+json": {
       "model_id": "00d5bb36c793430db25c7a732d95f1fc",
       "version_major": 2,
       "version_minor": 0
      },
      "text/plain": [
       "  0%|          | 0/3682 [00:00<?, ?it/s]"
      ]
     },
     "metadata": {},
     "output_type": "display_data"
    },
    {
     "data": {
      "image/png": "[encoded data removed]",
      "text/plain": [
       "<Figure size 792x504 with 1 Axes>"
      ]
     },
     "metadata": {
      "needs_background": "light"
     },
     "output_type": "display_data"
    }
   ],
   "source": [
    "hb = HourlyBacktester(dt.data, trader_config)\n",
    "hb.apply_strategy( best_params, look_back, oos=True)\n",
    "hb.get_score()\n",
    "plt.rcParams[\"figure.figsize\"] = (11, 7)\n",
    "hb.df_res['buy_and_hold_ret'] = (hb.df_res['target_return'] + 1).cumprod() - 1\n",
    "hb.df_res[['cum_ret', 'buy_and_hold_ret']].plot()\n",
    "plt.legend(['Cumulative return XGB', 'Cumulative return buy and hold'])\n",
    "plt.grid()\n",
    "plt.ylabel('Cumulative return')\n",
    "plt.title('Out-of-sample cumulative return without transaction costs')\n",
    "plt.show()"
   ]
  },
  {
   "cell_type": "code",
   "execution_count": 22,
   "id": "31387ff2",
   "metadata": {},
   "outputs": [
    {
     "data": {
      "text/plain": [
       "array([29.84671651, 84.90425853, 34.77259741,  7.25226652, 79.1491207 ,\n",
       "       32.26845971, 24.36843333,  2.18182695, 28.37176922, 69.72665548])"
      ]
     },
     "execution_count": 22,
     "metadata": {},
     "output_type": "execute_result"
    }
   ],
   "source": [
    "np.random.rand(10)*100"
   ]
  },
  {
   "cell_type": "code",
   "execution_count": 44,
   "id": "536867e5",
   "metadata": {},
   "outputs": [],
   "source": [
    "from unittest.mock import Mock\n",
    "\n",
    "json = Mock()\n",
    "json.order = lambda x, z: {\"executedQty\":1,\n",
    "                             \"cummulativeQuoteQty\":np.random.rand()+1}"
   ]
  },
  {
   "cell_type": "code",
   "execution_count": 45,
   "id": "395cdd26",
   "metadata": {},
   "outputs": [
    {
     "data": {
      "text/plain": [
       "{'executedQty': 1, 'cummulativeQuoteQty': 1.565886187579379}"
      ]
     },
     "execution_count": 45,
     "metadata": {},
     "output_type": "execute_result"
    }
   ],
   "source": [
    "json.order(1, 2)"
   ]
  },
  {
   "cell_type": "code",
   "execution_count": 28,
   "id": "c0cce1a1",
   "metadata": {},
   "outputs": [
    {
     "data": {
      "text/plain": [
       "<Mock name='mock.loads()' id='2640608167112'>"
      ]
     },
     "execution_count": 28,
     "metadata": {},
     "output_type": "execute_result"
    }
   ],
   "source": [
    "order"
   ]
  },
  {
   "cell_type": "code",
   "execution_count": null,
   "id": "ae9579b4",
   "metadata": {},
   "outputs": [],
   "source": []
  }
 ],
 "metadata": {
  "kernelspec": {
   "display_name": "main_venv",
   "language": "python",
   "name": "main_venv"
  },
  "language_info": {
   "codemirror_mode": {
    "name": "ipython",
    "version": 3
   },
   "file_extension": ".py",
   "mimetype": "text/x-python",
   "name": "python",
   "nbconvert_exporter": "python",
   "pygments_lexer": "ipython3",
   "version": "3.7.7"
  }
 },
 "nbformat": 4,
 "nbformat_minor": 5
}
